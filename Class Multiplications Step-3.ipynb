{
 "cells": [
  {
   "cell_type": "code",
   "execution_count": 10,
   "id": "fa66716b",
   "metadata": {},
   "outputs": [],
   "source": [
    "class MULTIPLEFUNCTIONS():\n",
    "    \n",
    "    def list_sub_fields():\n",
    "        sub_fields = [\"Machine Learning\",\"Neural Networks\",\"Vision\",\"Robotics\",\"Speech Processing\",\"Natural Language Processing\"]\n",
    "        for subfields in sub_fields:\n",
    "            print(subfields)\n",
    "            end=sub_fields\n",
    "        return end\n",
    "\n",
    "    def oddEven():\n",
    "        number = int(input(\"Enter a number: \"))\n",
    "        if number%2==0:\n",
    "            print(f\"{number} is even number\")\n",
    "            end=f\"{number} is even number\"\n",
    "        else:\n",
    "            print(f\"{number} is odd number\")\n",
    "            end=f\"{number} is odd number\"\n",
    "        return end  \n",
    "\n",
    "    def check_eligibility():\n",
    "        gender = input(\"Your Gender: \")\n",
    "        age = int(input(\"Your Age: \"))\n",
    "        \n",
    "        if gender.lower() == \"male\" and age >= 18:\n",
    "            print(\"Not Eligible\")\n",
    "            end=\"Not Eligible\"\n",
    "        else:\n",
    "            print(\"Eligible\")\n",
    "            end=\"Eligible\"\n",
    "        return end \n",
    "\n",
    "    def calculate_percentage():\n",
    "        subject1 = 98\n",
    "        subject2 = 87\n",
    "        subject3 = 95\n",
    "        subject4 = 95\n",
    "        subject5 = 93\n",
    "\n",
    "        total=subject1+subject2+subject3+subject4+subject5\n",
    "        percentage=(total/500)*100\n",
    "        print(\"Total:\",total)\n",
    "        end=\"Total:\",total\n",
    "        print(\"Percentage:\",percentage)\n",
    "        end=\"Percentage:\",percentage\n",
    "        return end\n",
    "\n",
    "    def calculate_triangle():\n",
    "        height=3\n",
    "        breadth=4\n",
    "        area=(height*breadth)/2\n",
    "        print(\"Area of Triangle:\",area)\n",
    "        end=\"Area of Triangle:\",area\n",
    "        height1=3\n",
    "        height2=4\n",
    "        breadth=45\n",
    "        perimeter=height1+height2+breadth\n",
    "        print(\"Perimeter of Triangle:\",perimeter)\n",
    "        end=\"Perimeter of Triangle:\",perimeter\n",
    "        return end\n",
    "                       "
   ]
  },
  {
   "cell_type": "code",
   "execution_count": 11,
   "id": "4db1745f",
   "metadata": {},
   "outputs": [
    {
     "name": "stdout",
     "output_type": "stream",
     "text": [
      "Machine Learning\n",
      "Neural Networks\n",
      "Vision\n",
      "Robotics\n",
      "Speech Processing\n",
      "Natural Language Processing\n"
     ]
    },
    {
     "data": {
      "text/plain": [
       "['Machine Learning',\n",
       " 'Neural Networks',\n",
       " 'Vision',\n",
       " 'Robotics',\n",
       " 'Speech Processing',\n",
       " 'Natural Language Processing']"
      ]
     },
     "execution_count": 11,
     "metadata": {},
     "output_type": "execute_result"
    }
   ],
   "source": [
    "MULTIPLEFUNCTIONS.list_sub_fields()"
   ]
  },
  {
   "cell_type": "code",
   "execution_count": 12,
   "id": "73c48e7c",
   "metadata": {},
   "outputs": [
    {
     "name": "stdout",
     "output_type": "stream",
     "text": [
      "Enter a number: 52452\n",
      "52452 is even number\n"
     ]
    },
    {
     "data": {
      "text/plain": [
       "'52452 is even number'"
      ]
     },
     "execution_count": 12,
     "metadata": {},
     "output_type": "execute_result"
    }
   ],
   "source": [
    "MULTIPLEFUNCTIONS.oddEven()"
   ]
  },
  {
   "cell_type": "code",
   "execution_count": 13,
   "id": "993c56b8",
   "metadata": {},
   "outputs": [
    {
     "name": "stdout",
     "output_type": "stream",
     "text": [
      "Your Gender: male\n",
      "Your Age: 20\n",
      "Not Eligible\n"
     ]
    },
    {
     "data": {
      "text/plain": [
       "'Not Eligible'"
      ]
     },
     "execution_count": 13,
     "metadata": {},
     "output_type": "execute_result"
    }
   ],
   "source": [
    "MULTIPLEFUNCTIONS.check_eligibility()"
   ]
  },
  {
   "cell_type": "code",
   "execution_count": 14,
   "id": "5ea59538",
   "metadata": {},
   "outputs": [
    {
     "name": "stdout",
     "output_type": "stream",
     "text": [
      "Total: 468\n",
      "Percentage: 93.60000000000001\n"
     ]
    },
    {
     "data": {
      "text/plain": [
       "('Percentage:', 93.60000000000001)"
      ]
     },
     "execution_count": 14,
     "metadata": {},
     "output_type": "execute_result"
    }
   ],
   "source": [
    "MULTIPLEFUNCTIONS.calculate_percentage()"
   ]
  },
  {
   "cell_type": "code",
   "execution_count": 15,
   "id": "4da1a1b1",
   "metadata": {},
   "outputs": [
    {
     "name": "stdout",
     "output_type": "stream",
     "text": [
      "Area of Triangle: 6.0\n",
      "Perimeter of Triangle: 52\n"
     ]
    },
    {
     "data": {
      "text/plain": [
       "('Perimeter of Triangle:', 52)"
      ]
     },
     "execution_count": 15,
     "metadata": {},
     "output_type": "execute_result"
    }
   ],
   "source": [
    "MULTIPLEFUNCTIONS.calculate_triangle()"
   ]
  },
  {
   "cell_type": "code",
   "execution_count": null,
   "id": "1a717d1c",
   "metadata": {},
   "outputs": [],
   "source": []
  }
 ],
 "metadata": {
  "kernelspec": {
   "display_name": "Python 3 (ipykernel)",
   "language": "python",
   "name": "python3"
  },
  "language_info": {
   "codemirror_mode": {
    "name": "ipython",
    "version": 3
   },
   "file_extension": ".py",
   "mimetype": "text/x-python",
   "name": "python",
   "nbconvert_exporter": "python",
   "pygments_lexer": "ipython3",
   "version": "3.10.9"
  }
 },
 "nbformat": 4,
 "nbformat_minor": 5
}
