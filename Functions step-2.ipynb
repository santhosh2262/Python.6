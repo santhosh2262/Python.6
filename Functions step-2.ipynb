{
 "cells": [
  {
   "cell_type": "code",
   "execution_count": 2,
   "id": "5eb048ef",
   "metadata": {},
   "outputs": [],
   "source": [
    "#Create Function"
   ]
  },
  {
   "cell_type": "code",
   "execution_count": 1,
   "id": "6c4ed7b8",
   "metadata": {},
   "outputs": [],
   "source": [
    "def list_sub_fields():\n",
    "    sub_fields = [\"Machine Learning\",\"Neural Networks\",\"Vision\",\"Robotics\",\"Speech Processing\",\"Natural Language Processing\"]\n",
    "    for subfields in sub_fields:\n",
    "        print(subfields)\n",
    "        end=sub_fields\n",
    "    return end  "
   ]
  },
  {
   "cell_type": "code",
   "execution_count": 3,
   "id": "a4c0af17",
   "metadata": {},
   "outputs": [
    {
     "name": "stdout",
     "output_type": "stream",
     "text": [
      "Machine Learning\n",
      "Neural Networks\n",
      "Vision\n",
      "Robotics\n",
      "Speech Processing\n",
      "Natural Language Processing\n"
     ]
    },
    {
     "data": {
      "text/plain": [
       "['Machine Learning',\n",
       " 'Neural Networks',\n",
       " 'Vision',\n",
       " 'Robotics',\n",
       " 'Speech Processing',\n",
       " 'Natural Language Processing']"
      ]
     },
     "execution_count": 3,
     "metadata": {},
     "output_type": "execute_result"
    }
   ],
   "source": [
    "list_sub_fields()"
   ]
  },
  {
   "cell_type": "code",
   "execution_count": 5,
   "id": "fe796508",
   "metadata": {},
   "outputs": [],
   "source": [
    "def oddEven():\n",
    "    number = int(input(\"Enter a number: \"))\n",
    "    if number%2==0:\n",
    "        print(f\"{number} is even number\")\n",
    "        end=f\"{number} is even number\"\n",
    "    else:\n",
    "        print(f\"{number} is odd number\")\n",
    "        end=f\"{number} is odd number\"\n",
    "    return end    "
   ]
  },
  {
   "cell_type": "code",
   "execution_count": 6,
   "id": "94919cb8",
   "metadata": {},
   "outputs": [
    {
     "name": "stdout",
     "output_type": "stream",
     "text": [
      "Enter a number: 52452\n",
      "52452 is even number\n"
     ]
    },
    {
     "data": {
      "text/plain": [
       "'52452 is even number'"
      ]
     },
     "execution_count": 6,
     "metadata": {},
     "output_type": "execute_result"
    }
   ],
   "source": [
    "oddEven()"
   ]
  },
  {
   "cell_type": "code",
   "execution_count": 7,
   "id": "8612e55d",
   "metadata": {},
   "outputs": [],
   "source": [
    "def check_eligibility():\n",
    "    gender = input(\"Your Gender: \")\n",
    "    age = int(input(\"Your Age: \"))\n",
    "    if gender.lower() == \"male\" and age >= 18:\n",
    "        print(\"Not Eligible\")\n",
    "        end=\"Not Eligible\"\n",
    "    else:\n",
    "        print(\"Eligible\")\n",
    "        end=\"Eligible\"\n",
    "    return end    "
   ]
  },
  {
   "cell_type": "code",
   "execution_count": 8,
   "id": "8945e7df",
   "metadata": {},
   "outputs": [
    {
     "name": "stdout",
     "output_type": "stream",
     "text": [
      "Your Gender: male\n",
      "Your Age: 20\n",
      "Not Eligible\n"
     ]
    },
    {
     "data": {
      "text/plain": [
       "'Not Eligible'"
      ]
     },
     "execution_count": 8,
     "metadata": {},
     "output_type": "execute_result"
    }
   ],
   "source": [
    "check_eligibility()"
   ]
  },
  {
   "cell_type": "code",
   "execution_count": 11,
   "id": "49db5eb2",
   "metadata": {},
   "outputs": [],
   "source": [
    "def calculate_percentage():\n",
    "    subject1 = 98\n",
    "    subject2 = 87\n",
    "    subject3 = 95\n",
    "    subject4 = 95\n",
    "    subject5 = 93\n",
    "\n",
    "    total=subject1+subject2+subject3+subject4+subject5\n",
    "    percentage=(total/500)*100\n",
    "    print(\"Total:\",total)\n",
    "    end=\"Total:\",total\n",
    "    print(\"Percentage:\",percentage)\n",
    "    end=\"Percentage:\",percentage\n",
    "    return end"
   ]
  },
  {
   "cell_type": "code",
   "execution_count": 12,
   "id": "3933e5dc",
   "metadata": {},
   "outputs": [
    {
     "name": "stdout",
     "output_type": "stream",
     "text": [
      "Total: 468\n",
      "Percentage: 93.60000000000001\n"
     ]
    },
    {
     "data": {
      "text/plain": [
       "('Percentage:', 93.60000000000001)"
      ]
     },
     "execution_count": 12,
     "metadata": {},
     "output_type": "execute_result"
    }
   ],
   "source": [
    "calculate_percentage()"
   ]
  },
  {
   "cell_type": "code",
   "execution_count": 14,
   "id": "e9300666",
   "metadata": {},
   "outputs": [],
   "source": [
    "def calculate_triangle():\n",
    "    height=32\n",
    "    breadth=34\n",
    "    area=(height*breadth)/2\n",
    "    print(\"Area of Triangle:\",area)\n",
    "    end=\"Area of Triangle:\",area\n",
    "    height1=2\n",
    "    height2=4\n",
    "    breadth=4\n",
    "    perimeter=height1+height2+breadth\n",
    "    print(\"Perimeter of Triangle:\",perimeter)\n",
    "    end=\"Perimeter of Triangle:\",perimeter"
   ]
  },
  {
   "cell_type": "code",
   "execution_count": 15,
   "id": "2919857e",
   "metadata": {},
   "outputs": [
    {
     "name": "stdout",
     "output_type": "stream",
     "text": [
      "Area of Triangle: 544.0\n",
      "Perimeter of Triangle: 10\n"
     ]
    }
   ],
   "source": [
    "calculate_triangle()"
   ]
  },
  {
   "cell_type": "code",
   "execution_count": null,
   "id": "4583dbe7",
   "metadata": {},
   "outputs": [],
   "source": []
  }
 ],
 "metadata": {
  "kernelspec": {
   "display_name": "Python 3 (ipykernel)",
   "language": "python",
   "name": "python3"
  },
  "language_info": {
   "codemirror_mode": {
    "name": "ipython",
    "version": 3
   },
   "file_extension": ".py",
   "mimetype": "text/x-python",
   "name": "python",
   "nbconvert_exporter": "python",
   "pygments_lexer": "ipython3",
   "version": "3.10.9"
  }
 },
 "nbformat": 4,
 "nbformat_minor": 5
}
