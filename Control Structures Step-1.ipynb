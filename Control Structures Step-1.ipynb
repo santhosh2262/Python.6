{
 "cells": [
  {
   "cell_type": "code",
   "execution_count": 1,
   "id": "fe61ca53",
   "metadata": {},
   "outputs": [],
   "source": [
    "#Create a list out the items in the list"
   ]
  },
  {
   "cell_type": "code",
   "execution_count": 3,
   "id": "927d162c",
   "metadata": {},
   "outputs": [
    {
     "name": "stdout",
     "output_type": "stream",
     "text": [
      "Machine Learning\n",
      "Neural Networks\n",
      "Vision\n",
      "Robotics\n",
      "Speech Processing\n",
      "Natural Language Processing\n"
     ]
    }
   ],
   "source": [
    "sub_fields = [\"Machine Learning\",\"Neural Networks\",\"Vision\",\"Robotics\",\"Speech Processing\",\"Natural Language Processing\"]\n",
    "for item in sub_fields:\n",
    "    print(item)"
   ]
  },
  {
   "cell_type": "code",
   "execution_count": 28,
   "id": "06795a44",
   "metadata": {},
   "outputs": [],
   "source": [
    "#Create a checks whether the given number is Odd or Even"
   ]
  },
  {
   "cell_type": "code",
   "execution_count": 13,
   "id": "d9186c71",
   "metadata": {},
   "outputs": [
    {
     "name": "stdout",
     "output_type": "stream",
     "text": [
      "Enter a number: 52452\n",
      "52452 is even number\n"
     ]
    }
   ],
   "source": [
    "number = int(input(\"Enter a number: \"))\n",
    "if number%2==0:\n",
    "    print(f\"{number} is even number\")\n",
    "else:\n",
    "    print(f\"{number} is odd number\")"
   ]
  },
  {
   "cell_type": "code",
   "execution_count": 15,
   "id": "b65181ee",
   "metadata": {},
   "outputs": [],
   "source": [
    "#Create a tells elegibility of marriage for male and female according to their age limit like 21 for male and 18 for female"
   ]
  },
  {
   "cell_type": "code",
   "execution_count": 17,
   "id": "20185426",
   "metadata": {},
   "outputs": [
    {
     "name": "stdout",
     "output_type": "stream",
     "text": [
      "Your Gender: male\n",
      "Your Age: 20\n",
      "Not Eligible\n"
     ]
    }
   ],
   "source": [
    "gender = input(\"Your Gender: \")\n",
    "age = int(input(\"Your Age: \"))\n",
    "if gender.lower() == \"male\" and age >= 18:\n",
    "    print(\"Not Eligible\")\n",
    "else:\n",
    "    print(\"Eligible\")"
   ]
  },
  {
   "cell_type": "code",
   "execution_count": 18,
   "id": "873174d3",
   "metadata": {},
   "outputs": [],
   "source": [
    "#calculate the percentage of your 10th mark"
   ]
  },
  {
   "cell_type": "code",
   "execution_count": 25,
   "id": "63802cff",
   "metadata": {},
   "outputs": [
    {
     "name": "stdout",
     "output_type": "stream",
     "text": [
      "Total: 468\n",
      "Percentage: 93.60000000000001\n"
     ]
    }
   ],
   "source": [
    "    subject1 = 98\n",
    "    subject2 = 87\n",
    "    subject3 = 95\n",
    "    subject4 = 95\n",
    "    subject5 = 93\n",
    "\n",
    "    total=subject1+subject2+subject3+subject4+subject5\n",
    "    percentage=(total/500)*100\n",
    "    print(\"Total:\",total)\n",
    "    print(\"Percentage:\",percentage)"
   ]
  },
  {
   "cell_type": "code",
   "execution_count": 26,
   "id": "eefa6b08",
   "metadata": {},
   "outputs": [],
   "source": [
    "#print area and perimeter of triangle"
   ]
  },
  {
   "cell_type": "code",
   "execution_count": 29,
   "id": "55c90cbb",
   "metadata": {},
   "outputs": [
    {
     "name": "stdout",
     "output_type": "stream",
     "text": [
      "Area of Triangle: 544.0\n",
      "Perimeter of Triangle: 10\n"
     ]
    }
   ],
   "source": [
    "    height=32\n",
    "    breadth=34\n",
    "    area=(height*breadth)/2\n",
    "    print(\"Area of Triangle:\",area)\n",
    "    height1=2\n",
    "    height2=4\n",
    "    breadth=4\n",
    "    perimeter=height1+height2+breadth\n",
    "    print(\"Perimeter of Triangle:\",perimeter)"
   ]
  },
  {
   "cell_type": "code",
   "execution_count": null,
   "id": "02f3b8ad",
   "metadata": {},
   "outputs": [],
   "source": []
  }
 ],
 "metadata": {
  "kernelspec": {
   "display_name": "Python 3 (ipykernel)",
   "language": "python",
   "name": "python3"
  },
  "language_info": {
   "codemirror_mode": {
    "name": "ipython",
    "version": 3
   },
   "file_extension": ".py",
   "mimetype": "text/x-python",
   "name": "python",
   "nbconvert_exporter": "python",
   "pygments_lexer": "ipython3",
   "version": "3.10.9"
  }
 },
 "nbformat": 4,
 "nbformat_minor": 5
}
